{
 "cells": [
  {
   "cell_type": "code",
   "execution_count": 3,
   "id": "f3faf035",
   "metadata": {},
   "outputs": [],
   "source": [
    "# Importing Relevant Libraries\n",
    "import os\n",
    "import requests\n",
    "import calendar\n",
    "\n",
    "\n",
    "from selenium import webdriver\n",
    "from selenium.webdriver.chrome.service import Service\n",
    "from selenium.webdriver.common.by import By\n",
    "from selenium.webdriver.support.ui import WebDriverWait\n",
    "from selenium.webdriver.support import expected_conditions as EC"
   ]
  },
  {
   "cell_type": "code",
   "execution_count": 5,
   "id": "d2994c1e",
   "metadata": {},
   "outputs": [],
   "source": [
    "path=\"C:/Users/Hp/OneDrive/chromedriver_win32/chromedriver.exe\"\n",
    "s=Service(path)\n",
    "driver=webdriver.Chrome(service=s)\n",
    "driver.get(\"https://www.rbi.org.in/Scripts/ATMView.aspx\")"
   ]
  },
  {
   "cell_type": "code",
   "execution_count": 6,
   "id": "bb04d7a5",
   "metadata": {},
   "outputs": [],
   "source": [
    "#create a directory to store the files\n",
    "directory = 'RBI_Scraped_Excel_Files'\n",
    "if not os.path.exists(directory):\n",
    "    os.makedirs(directory)"
   ]
  },
  {
   "cell_type": "code",
   "execution_count": 7,
   "id": "835ab062",
   "metadata": {},
   "outputs": [],
   "source": [
    "#iterate through the months from April 2022 to March 2023\n",
    "for year in range(2022, 2024):\n",
    "    #open RBI website\n",
    "    url = 'https://www.rbi.org.in/Scripts/ATMView.aspx'\n",
    "    driver.get(url)\n",
    "\n",
    "    #wait for the page to load\n",
    "    wait = WebDriverWait(driver, 80)\n",
    "    \n",
    "    #find the year \n",
    "    year_btn = wait.until(EC.element_to_be_clickable((By.ID, f'btn{year}')))\n",
    "    year_btn.click()\n",
    "\n",
    "    #define the range for months for each year\n",
    "    start_month = 4 if year == 2022 else 1\n",
    "    end_month = 13 if year == 2022 else 4\n",
    "\n",
    "    for month in range(start_month, end_month):\n",
    "        #find the month in the accordion\n",
    "        month_link_id = f'{year}{month}'\n",
    "        month_link = wait.until(EC.presence_of_element_located((By.ID, month_link_id)))\n",
    "\n",
    "        #stimulate the click action with javascript\n",
    "        driver.execute_script(\"arguments[0].click();\", month_link)\n",
    "\n",
    "        #find the download link for the xlsx file of the corresponding month\n",
    "        download_link = wait.until(EC.presence_of_element_located((By.CSS_SELECTOR, 'a[href$=\".XLSX\"]')))\n",
    "        download_url = download_link.get_attribute('href')\n",
    "\n",
    "        #download the excel file for the month\n",
    "        response = requests.get(download_url)\n",
    "        \n",
    "        #get the month abbreviation for the file name\n",
    "        month_abbr = calendar.month_abbr[month]\n",
    "\n",
    "        #generate the file name with month abbreviation and year\n",
    "        file_name = f'{month_abbr}_{year}.xlsx'\n",
    "        file_path = os.path.join(directory, file_name)\n",
    "        \n",
    "        #save the downloaded file\n",
    "        with open(file_path, 'wb') as file:\n",
    "            file.write(response.content)\n",
    "\n"
   ]
  },
  {
   "cell_type": "code",
   "execution_count": null,
   "id": "7cfdd811",
   "metadata": {},
   "outputs": [],
   "source": []
  }
 ],
 "metadata": {
  "kernelspec": {
   "display_name": "Python 3 (ipykernel)",
   "language": "python",
   "name": "python3"
  },
  "language_info": {
   "codemirror_mode": {
    "name": "ipython",
    "version": 3
   },
   "file_extension": ".py",
   "mimetype": "text/x-python",
   "name": "python",
   "nbconvert_exporter": "python",
   "pygments_lexer": "ipython3",
   "version": "3.10.9"
  }
 },
 "nbformat": 4,
 "nbformat_minor": 5
}
