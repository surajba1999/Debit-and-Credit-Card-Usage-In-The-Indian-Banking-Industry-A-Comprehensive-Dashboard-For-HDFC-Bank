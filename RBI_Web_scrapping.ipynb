{
 "cells": [
  {
   "cell_type": "code",
   "execution_count": 1,
   "id": "80b60c8a",
   "metadata": {},
   "outputs": [],
   "source": [
    "from selenium import webdriver\n",
    "from selenium.webdriver.chrome.service import Service\n",
    "from selenium.webdriver.common.by import By\n",
    "from selenium.webdriver.support.ui import WebDriverWait\n",
    "from selenium.webdriver.support import expected_conditions as EC\n",
    "import os\n",
    "import requests"
   ]
  },
  {
   "cell_type": "code",
   "execution_count": 2,
   "id": "7ab6fcca",
   "metadata": {},
   "outputs": [],
   "source": [
    "chrome_driver = 'C:/chromedriver.exe' #chromedriver_location\n",
    "\n",
    "s = Service(chrome_driver)\n",
    "chrome = webdriver.Chrome(service=s)  #initializing chromedriver\n",
    "\n",
    "\n",
    "directory = 'ATM_ALL_BANKS_RBI'\n",
    "if not os.path.exists(directory):\n",
    "    os.makedirs(directory)     #Creating a folder (Directory) to download files"
   ]
  },
  {
   "cell_type": "code",
   "execution_count": 3,
   "id": "ffc598ab",
   "metadata": {},
   "outputs": [],
   "source": [
    "for year in range(2022, 2024):   #looping through the years from 2022 to 2024\n",
    "    \n",
    "    url = 'https://www.rbi.org.in/Scripts/ATMView.aspx' #RBI website to get the data\n",
    "    \n",
    "    chrome.get(url)  #opening a new chrome window\n",
    "\n",
    "    wait = WebDriverWait(chrome, 70) #delay for loading the webpage\n",
    "    \n",
    "    year_button = wait.until(EC.element_to_be_clickable((By.ID, f'btn{year}')))\n",
    "    year_button.click()  #opening the year side\n",
    "\n",
    "    start_month = 4 if year == 2022 else 1  \n",
    "    end_month = 13 if year == 2022 else 4  #range of months as per the year\n",
    "\n",
    "    for month in range(start_month, end_month): #looping through months on the webpage\n",
    "       \n",
    "        month_link_id = f'{year}{month}'\n",
    "        month_link = wait.until(EC.presence_of_element_located((By.ID, month_link_id))) #\n",
    "\n",
    "        chrome.execute_script(\"arguments[0].click();\", month_link) #Clicking the months\n",
    "\n",
    "        download = wait.until(EC.presence_of_element_located((By.CSS_SELECTOR, 'a[href$=\".XLSX\"]')))\n",
    "        download_url = download.get_attribute('href')  #searching the download link using href attribute\n",
    "\n",
    "        output = requests.get(download_url)\n",
    "        file_path = os.path.join(directory, f'{month:02d}_{year:0d}.xlsx') #downloading the file\n",
    "        with open(file_path, 'wb') as file:\n",
    "            file.write(output.content)"
   ]
  }
 ],
 "metadata": {
  "kernelspec": {
   "display_name": "Python 3 (ipykernel)",
   "language": "python",
   "name": "python3"
  },
  "language_info": {
   "codemirror_mode": {
    "name": "ipython",
    "version": 3
   },
   "file_extension": ".py",
   "mimetype": "text/x-python",
   "name": "python",
   "nbconvert_exporter": "python",
   "pygments_lexer": "ipython3",
   "version": "3.9.13"
  }
 },
 "nbformat": 4,
 "nbformat_minor": 5
}
